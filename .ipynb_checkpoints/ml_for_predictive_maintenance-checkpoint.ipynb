{
 "cells": [
  {
   "cell_type": "code",
   "execution_count": 2,
   "metadata": {
    "id": "emuP0eNJO4p3"
   },
   "outputs": [],
   "source": [
    "import pandas as pd\n",
    "import numpy as np\n",
    "import matplotlib.pyplot as plt\n",
    "import seaborn as sns\n",
    "\n",
    "from sklearn.model_selection import train_test_split\n",
    "from sklearn.preprocessing import StandardScaler\n",
    "from sklearn.feature_extraction import DictVectorizer\n",
    "from sklearn.metrics import roc_auc_score, accuracy_score, f1_score\n",
    "\n",
    "from sklearn.linear_model import LogisticRegression\n",
    "from sklearn.tree import DecisionTreeClassifier\n",
    "from sklearn.ensemble import RandomForestClassifier\n",
    "import xgboost as xgb\n",
    "from xgboost import XGBClassifier\n",
    "\n",
    "import pickle\n",
    "\n",
    "from tqdm.auto import tqdm"
   ]
  },
  {
   "cell_type": "code",
   "execution_count": 3,
   "metadata": {
    "colab": {
     "base_uri": "https://localhost:8080/"
    },
    "id": "nP3HsfltM073",
    "outputId": "a56a42c3-01ec-4669-c278-bcdbbb72c07c"
   },
   "outputs": [
    {
     "name": "stdout",
     "output_type": "stream",
     "text": [
      "  type  air_temperature_k  process_temperature_k  rotational_speed_rpm  \\\n",
      "0    m              298.1                  308.6                  1551   \n",
      "1    l              298.2                  308.7                  1408   \n",
      "2    l              298.1                  308.5                  1498   \n",
      "3    l              298.2                  308.6                  1433   \n",
      "4    l              298.2                  308.7                  1408   \n",
      "\n",
      "   torque_nm  tool_wear_min  machine_failure  \n",
      "0       42.8              0                0  \n",
      "1       46.3              3                0  \n",
      "2       49.4              5                0  \n",
      "3       39.5              7                0  \n",
      "4       40.0              9                0  \n"
     ]
    }
   ],
   "source": [
    "df = pd.read_csv('ai4i2020.csv')\n",
    "\n",
    "df.columns = df.columns.str.lower().str.replace(\" \", \"_\").str.replace(r\"[\\[\\]<>]\", \"\", regex=True)\n",
    "drop_columns = ['udi', 'product_id', 'twf', 'hdf', 'pwf', 'osf', 'rnf']\n",
    "df = df.drop(columns=drop_columns)\n",
    "df['type'] = df['type'].apply(lambda x: x.lower())\n",
    "\n",
    "print(df.head())"
   ]
  },
  {
   "cell_type": "code",
   "execution_count": 4,
   "metadata": {
    "colab": {
     "base_uri": "https://localhost:8080/"
    },
    "id": "Gm1_CSarOZBP",
    "outputId": "77693e2e-9005-4cea-d62d-a30cbc2be27b"
   },
   "outputs": [
    {
     "name": "stdout",
     "output_type": "stream",
     "text": [
      "<class 'pandas.core.frame.DataFrame'>\n",
      "RangeIndex: 10000 entries, 0 to 9999\n",
      "Data columns (total 7 columns):\n",
      " #   Column                 Non-Null Count  Dtype  \n",
      "---  ------                 --------------  -----  \n",
      " 0   type                   10000 non-null  object \n",
      " 1   air_temperature_k      10000 non-null  float64\n",
      " 2   process_temperature_k  10000 non-null  float64\n",
      " 3   rotational_speed_rpm   10000 non-null  int64  \n",
      " 4   torque_nm              10000 non-null  float64\n",
      " 5   tool_wear_min          10000 non-null  int64  \n",
      " 6   machine_failure        10000 non-null  int64  \n",
      "dtypes: float64(3), int64(3), object(1)\n",
      "memory usage: 547.0+ KB\n"
     ]
    }
   ],
   "source": [
    "df.info()"
   ]
  },
  {
   "cell_type": "code",
   "execution_count": 5,
   "metadata": {
    "colab": {
     "base_uri": "https://localhost:8080/",
     "height": 178
    },
    "id": "xFo8f27EOrn2",
    "outputId": "9bc208c3-05a8-4795-80c9-cb6dcd59fecb"
   },
   "outputs": [
    {
     "data": {
      "text/plain": [
       "machine_failure\n",
       "0    9661\n",
       "1     339\n",
       "Name: count, dtype: int64"
      ]
     },
     "execution_count": 5,
     "metadata": {},
     "output_type": "execute_result"
    }
   ],
   "source": [
    "df['machine_failure'].value_counts()"
   ]
  },
  {
   "cell_type": "code",
   "execution_count": 35,
   "metadata": {
    "id": "3SDCj-BeiIBw"
   },
   "outputs": [],
   "source": [
    "df_full_train, df_test = train_test_split(df, test_size=0.2, random_state=1, shuffle=True)\n",
    "df_train, df_val = train_test_split(df_full_train, test_size=0.25, random_state=1, shuffle=True)\n",
    "\n",
    "df_full_train = df_full_train.reset_index(drop=True)\n",
    "df_train = df_train.reset_index(drop=True)\n",
    "df_val = df_val.reset_index(drop=True)\n",
    "df_test = df_test.reset_index(drop=True)\n",
    "\n",
    "y_full_train = df_full_train['machine_failure'].values\n",
    "y_train = df_train['machine_failure'].values\n",
    "y_val = df_val['machine_failure'].values\n",
    "y_test = df_test['machine_failure'].values\n",
    "\n",
    "del df_train['machine_failure']\n",
    "del df_val['machine_failure']\n",
    "del df_test['machine_failure']\n",
    "\n",
    "\n",
    "# Scaling the numerical features to implement Log. Regression\n",
    "scaler = StandardScaler()\n",
    "num_features = ['air_temperature_k', 'process_temperature_k',\n",
    "                'rotational_speed_rpm', 'torque_nm', \n",
    "                'tool_wear_min']\n",
    "\n",
    "df_full_train_scaled = df_full_train.copy()\n",
    "df_full_train_scaled[num_features] = scaler.fit_transform(df_full_train_scaled[num_features])\n",
    "\n",
    "df_train_scaled = df_train.copy()\n",
    "df_train_scaled[num_features] = scaler.fit_transform(df_train_scaled[num_features])\n",
    "\n",
    "df_val_scaled = df_val.copy()\n",
    "df_val_scaled[num_features] = scaler.transform(df_val_scaled[num_features])\n",
    "\n",
    "df_test_scaled = df_test.copy()\n",
    "df_test_scaled[num_features] = scaler.transform(df_test_scaled[num_features])\n",
    "\n",
    "\n",
    "# Encode Categorical Features\n",
    "dv = DictVectorizer(sparse=False)\n",
    "\n",
    "dicts_df_train = df_train.to_dict(orient='records')\n",
    "X_train = dv.fit_transform(dicts_df_train)\n",
    "\n",
    "dicts_df_val = df_val.to_dict(orient='records')\n",
    "X_val = dv.transform(dicts_df_val)\n",
    "\n",
    "dicts_df_test = df_test.to_dict(orient='records')\n",
    "X_test = dv.transform(dicts_df_test)\n",
    "\n",
    "dicts_df_train_scaled = df_train_scaled.to_dict(orient='records')\n",
    "X_train_scaled = dv.transform(dicts_df_train_scaled)\n",
    "\n",
    "dicts_df_val_scaled = df_val_scaled.to_dict(orient='records')\n",
    "X_val_scaled = dv.transform(dicts_df_val_scaled)\n",
    "\n",
    "dicts_df_test_scaled = df_test_scaled.to_dict(orient='records')\n",
    "X_test_scaled = dv.transform(dicts_df_test_scaled)"
   ]
  },
  {
   "cell_type": "markdown",
   "metadata": {
    "id": "imkmn1qDm0VF"
   },
   "source": [
    "### Logistic Regression"
   ]
  },
  {
   "cell_type": "code",
   "execution_count": 7,
   "metadata": {
    "colab": {
     "base_uri": "https://localhost:8080/",
     "height": 294
    },
    "id": "4JXqbp4YjfML",
    "outputId": "d71c5fa0-b559-4017-96a1-290364e7a91f"
   },
   "outputs": [
    {
     "name": "stdout",
     "output_type": "stream",
     "text": [
      "        C      auc\n",
      "2     0.1  0.89753\n",
      "3     1.0  0.89609\n",
      "4    10.0  0.89559\n",
      "5   100.0  0.89556\n",
      "6  1000.0  0.89555\n"
     ]
    }
   ],
   "source": [
    "Cs = [0.001, 0.01, 0.1, 1, 10, 100, 1000]\n",
    "score = []\n",
    "\n",
    "for C in Cs:\n",
    "    lr_clf = LogisticRegression(C=C, random_state=1)\n",
    "    lr_clf.fit(X_train_scaled, y_train)\n",
    "\n",
    "    y_pred = lr_clf.predict_proba(X_val_scaled)[:,1]\n",
    "    auc = roc_auc_score(y_val, y_pred)\n",
    "    \n",
    "    score.append((C, round(auc, 5)))\n",
    "\n",
    "score = pd.DataFrame(score, columns=['C', 'auc'])\n",
    "print(score.sort_values(by='auc', ascending=False).head())"
   ]
  },
  {
   "cell_type": "code",
   "execution_count": 8,
   "metadata": {},
   "outputs": [
    {
     "data": {
      "text/plain": [
       "np.float64(0.8975257731958763)"
      ]
     },
     "execution_count": 8,
     "metadata": {},
     "output_type": "execute_result"
    }
   ],
   "source": [
    "# Final Model\n",
    "\n",
    "lr_clf = LogisticRegression(C=0.1, random_state=1)\n",
    "lr_clf.fit(X_train_scaled, y_train)\n",
    "\n",
    "y_pred = lr_clf.predict_proba(X_val_scaled)[:,1]\n",
    "lr_clf_auc_score = roc_auc_score(y_val, y_pred)\n",
    "lr_clf_auc_score"
   ]
  },
  {
   "cell_type": "markdown",
   "metadata": {},
   "source": [
    "### Decision Tree"
   ]
  },
  {
   "cell_type": "code",
   "execution_count": 9,
   "metadata": {},
   "outputs": [
    {
     "name": "stdout",
     "output_type": "stream",
     "text": [
      "   max_depth      auc\n",
      "5          6  0.88975\n",
      "8          9  0.87408\n",
      "7          8  0.86554\n",
      "6          7  0.86434\n",
      "4          5  0.85356\n"
     ]
    }
   ],
   "source": [
    "score = []\n",
    "\n",
    "for d in range(1, 11):\n",
    "    dt_clf = DecisionTreeClassifier(max_depth=d, random_state=1)\n",
    "    dt_clf.fit(X_train, y_train)\n",
    "\n",
    "    y_pred = dt_clf.predict_proba(X_val)[:, 1]\n",
    "    auc = roc_auc_score(y_val, y_pred)\n",
    "\n",
    "    score.append((d, round(auc, 5)))\n",
    "\n",
    "score = pd.DataFrame(score, columns=['max_depth', 'auc'])\n",
    "print(score.sort_values(by='auc', ascending=False).head())"
   ]
  },
  {
   "cell_type": "code",
   "execution_count": 10,
   "metadata": {},
   "outputs": [
    {
     "name": "stdout",
     "output_type": "stream",
     "text": [
      "    max_depth  min_sample_leaf      auc\n",
      "56          8               17  0.96064\n",
      "57          8               18  0.96049\n",
      "58          8               19  0.96049\n",
      "55          8               16  0.96043\n",
      "59          8               20  0.95903\n"
     ]
    }
   ],
   "source": [
    "score = []\n",
    "\n",
    "for d in [6, 7, 8, 9]:\n",
    "    for l in range(1, 21):\n",
    "        dt_clf = DecisionTreeClassifier(max_depth=d,\n",
    "                                        min_samples_leaf=l,\n",
    "                                        random_state=1)\n",
    "        dt_clf.fit(X_train, y_train)\n",
    "    \n",
    "        y_pred = dt_clf.predict_proba(X_val)[:, 1]\n",
    "        auc = roc_auc_score(y_val, y_pred)\n",
    "    \n",
    "        score.append((d, l, round(auc, 5)))\n",
    "\n",
    "columns = ['max_depth', 'min_sample_leaf', 'auc']\n",
    "score = pd.DataFrame(score, columns=columns)\n",
    "print(score.sort_values(by='auc', ascending=False).head())"
   ]
  },
  {
   "cell_type": "code",
   "execution_count": 11,
   "metadata": {},
   "outputs": [
    {
     "data": {
      "text/plain": [
       "np.float64(0.960640034364261)"
      ]
     },
     "execution_count": 11,
     "metadata": {},
     "output_type": "execute_result"
    }
   ],
   "source": [
    "# Final Model\n",
    "\n",
    "dt_clf = DecisionTreeClassifier(max_depth=8,\n",
    "                                min_samples_leaf=17,\n",
    "                                random_state=1)\n",
    "dt_clf.fit(X_train, y_train)\n",
    "\n",
    "y_pred = dt_clf.predict_proba(X_val)[:, 1]\n",
    "dt_clf_auc_score = roc_auc_score(y_val, y_pred)\n",
    "dt_clf_auc_score"
   ]
  },
  {
   "cell_type": "markdown",
   "metadata": {},
   "source": [
    "### Random Forest"
   ]
  },
  {
   "cell_type": "code",
   "execution_count": 12,
   "metadata": {},
   "outputs": [
    {
     "data": {
      "application/vnd.jupyter.widget-view+json": {
       "model_id": "e4508cdbf7734e45b60172cc624559bd",
       "version_major": 2,
       "version_minor": 0
      },
      "text/plain": [
       "  0%|          | 0/200 [00:00<?, ?it/s]"
      ]
     },
     "metadata": {},
     "output_type": "display_data"
    },
    {
     "name": "stdout",
     "output_type": "stream",
     "text": [
      "     n_estimators       auc\n",
      "194           195  0.970829\n",
      "195           196  0.970790\n",
      "196           197  0.970773\n",
      "197           198  0.970713\n",
      "193           194  0.970687\n",
      "198           199  0.970679\n",
      "199           200  0.970662\n",
      "188           189  0.970584\n",
      "189           190  0.970546\n",
      "190           191  0.970503\n"
     ]
    }
   ],
   "source": [
    "score = []\n",
    "\n",
    "for e in tqdm(range(1, 201)):\n",
    "    rf_clf = RandomForestClassifier(n_estimators=e, \n",
    "                                    random_state=1, \n",
    "                                    n_jobs=-1)\n",
    "    rf_clf.fit(X_train, y_train)\n",
    "\n",
    "    y_pred = rf_clf.predict_proba(X_val)[:, 1]\n",
    "    auc = roc_auc_score(y_val, y_pred)\n",
    "\n",
    "    score.append((e, auc))\n",
    "\n",
    "score = pd.DataFrame(score, columns=['n_estimators', 'auc'])\n",
    "print(score.sort_values(by='auc', ascending=False).head(10))"
   ]
  },
  {
   "cell_type": "code",
   "execution_count": 13,
   "metadata": {},
   "outputs": [
    {
     "data": {
      "text/plain": [
       "Text(0, 0.5, 'auc')"
      ]
     },
     "execution_count": 13,
     "metadata": {},
     "output_type": "execute_result"
    },
    {
     "data": {
      "image/png": "[encoded data removed]",
      "text/plain": [
       "<Figure size 640x480 with 1 Axes>"
      ]
     },
     "metadata": {},
     "output_type": "display_data"
    }
   ],
   "source": [
    "plt.plot(score['n_estimators'], score['auc'])\n",
    "plt.xlabel('n_estimators')\n",
    "plt.ylabel('auc')"
   ]
  },
  {
   "cell_type": "code",
   "execution_count": 14,
   "metadata": {},
   "outputs": [
    {
     "data": {
      "application/vnd.jupyter.widget-view+json": {
       "model_id": "c468de8008ae4009b3111c60057d05fb",
       "version_major": 2,
       "version_minor": 0
      },
      "text/plain": [
       "  0%|          | 0/20 [00:00<?, ?it/s]"
      ]
     },
     "metadata": {},
     "output_type": "display_data"
    },
    {
     "name": "stdout",
     "output_type": "stream",
     "text": [
      "    max_depth  n_estimators       auc\n",
      "36         10           195  0.977715\n",
      "37         10           196  0.977646\n",
      "38         10           197  0.977646\n",
      "39         10           198  0.977586\n",
      "45         12           196  0.976692\n",
      "47         12           198  0.976692\n",
      "44         12           195  0.976684\n",
      "46         12           197  0.976658\n",
      "50         13           197  0.975799\n",
      "49         13           196  0.975773\n"
     ]
    }
   ],
   "source": [
    "score = []\n",
    "\n",
    "for d in tqdm(range(1, 21)):\n",
    "    for e in [195, 196, 197, 198]:\n",
    "        rf_clf = RandomForestClassifier(n_estimators=e,\n",
    "                                        max_depth=d,\n",
    "                                        random_state=1, \n",
    "                                        n_jobs=-1)\n",
    "        rf_clf.fit(X_train, y_train)\n",
    "    \n",
    "        y_pred = rf_clf.predict_proba(X_val)[:, 1]\n",
    "        auc = roc_auc_score(y_val, y_pred)\n",
    "    \n",
    "        score.append((d, e, auc))\n",
    "\n",
    "score = pd.DataFrame(score, columns=['max_depth', 'n_estimators', 'auc'])\n",
    "print(score.sort_values(by='auc', ascending=False).head(10))"
   ]
  },
  {
   "cell_type": "code",
   "execution_count": 15,
   "metadata": {},
   "outputs": [
    {
     "data": {
      "application/vnd.jupyter.widget-view+json": {
       "model_id": "628d27940c0f4878b4f102553a04d6f2",
       "version_major": 2,
       "version_minor": 0
      },
      "text/plain": [
       "  0%|          | 0/20 [00:00<?, ?it/s]"
      ]
     },
     "metadata": {},
     "output_type": "display_data"
    },
    {
     "name": "stdout",
     "output_type": "stream",
     "text": [
      "    min_sample_leaf       auc\n",
      "0                 1  0.977715\n",
      "1                 2  0.977680\n",
      "5                 6  0.975395\n",
      "7                 8  0.974742\n",
      "8                 9  0.973617\n",
      "2                 3  0.973582\n",
      "6                 7  0.973368\n",
      "3                 4  0.972930\n",
      "12               13  0.972079\n",
      "9                10  0.972070\n"
     ]
    }
   ],
   "source": [
    "score = []\n",
    "\n",
    "for s in tqdm(range(1, 21)):\n",
    "    rf_clf = RandomForestClassifier(n_estimators=195,\n",
    "                                    max_depth=10,\n",
    "                                    min_samples_leaf=s,\n",
    "                                    random_state=1, \n",
    "                                    n_jobs=-1)\n",
    "    rf_clf.fit(X_train, y_train)\n",
    "\n",
    "    y_pred = rf_clf.predict_proba(X_val)[:, 1]\n",
    "    auc = roc_auc_score(y_val, y_pred)\n",
    "\n",
    "    score.append((s, auc))\n",
    "\n",
    "score = pd.DataFrame(score, columns=['min_sample_leaf', 'auc'])\n",
    "print(score.sort_values(by='auc', ascending=False).head(10))"
   ]
  },
  {
   "cell_type": "code",
   "execution_count": 16,
   "metadata": {},
   "outputs": [
    {
     "data": {
      "text/plain": [
       "np.float64(0.9777147766323024)"
      ]
     },
     "execution_count": 16,
     "metadata": {},
     "output_type": "execute_result"
    }
   ],
   "source": [
    "# final model\n",
    "\n",
    "rf_clf = RandomForestClassifier(n_estimators=195,\n",
    "                                max_depth=10,\n",
    "                                min_samples_leaf=1,\n",
    "                                random_state=1, \n",
    "                                n_jobs=-1)\n",
    "rf_clf.fit(X_train, y_train)\n",
    "\n",
    "y_pred = rf_clf.predict_proba(X_val)[:, 1]\n",
    "rf_clf_auc_score = roc_auc_score(y_val, y_pred)\n",
    "rf_clf_auc_score"
   ]
  },
  {
   "cell_type": "markdown",
   "metadata": {},
   "source": [
    "### XGBoost"
   ]
  },
  {
   "cell_type": "code",
   "execution_count": 17,
   "metadata": {},
   "outputs": [],
   "source": [
    "features = dv.feature_names_\n",
    "dtrain = xgb.DMatrix(X_train, label=y_train, feature_names=dv.feature_names_)\n",
    "dval = xgb.DMatrix(X_val, label=y_val, feature_names=dv.feature_names_)\n",
    "\n",
    "result = {}\n",
    "watchlist = [(dtrain, 'train'), (dval, 'val')]\n",
    "params = {\n",
    "    'objective': 'binary:logistic',\n",
    "    'eta': 0.3,\n",
    "    'max_depth': 6,\n",
    "    'min_child_weight': 1,\n",
    "    'eval_metric': 'auc',\n",
    "    'seed': 1,\n",
    "    'verbosity': 1\n",
    "}\n",
    "\n",
    "xgb_clf = xgb.train(\n",
    "    params = params,\n",
    "    dtrain = dtrain,\n",
    "    num_boost_round = 300,\n",
    "    evals = watchlist,\n",
    "    evals_result = result,\n",
    "    verbose_eval = 0\n",
    ")\n"
   ]
  },
  {
   "cell_type": "code",
   "execution_count": 19,
   "metadata": {},
   "outputs": [
    {
     "name": "stdout",
     "output_type": "stream",
     "text": [
      "    num_boost_round       auc\n",
      "26               27  0.982397\n",
      "27               28  0.982268\n",
      "25               26  0.982251\n",
      "28               29  0.982242\n",
      "29               30  0.981873\n"
     ]
    }
   ],
   "source": [
    "df_scores = pd.DataFrame()\n",
    "df_scores['num_boost_round'] = [i+1 for i in range(300)]\n",
    "df_scores['auc'] = result['val']['auc']\n",
    "print(df_scores.sort_values(by='auc', ascending=False).head())"
   ]
  },
  {
   "cell_type": "code",
   "execution_count": 20,
   "metadata": {},
   "outputs": [
    {
     "data": {
      "application/vnd.jupyter.widget-view+json": {
       "model_id": "cbd54fac32ea41a2bae05a27b72eea6b",
       "version_major": 2,
       "version_minor": 0
      },
      "text/plain": [
       "  0%|          | 0/10 [00:00<?, ?it/s]"
      ]
     },
     "metadata": {},
     "output_type": "display_data"
    }
   ],
   "source": [
    "etas = [round(i, 1) for i in np.linspace(0.1, 1, 10)]\n",
    "result = {}\n",
    "\n",
    "for eta in tqdm(etas):\n",
    "    eval_result = {}\n",
    "    watchlist = [(dtrain, 'train'), (dval, 'val')]\n",
    "    params = {\n",
    "        'objective': 'binary:logistic',\n",
    "        'eta': eta,\n",
    "        'max_depth': 6,\n",
    "        'min_child_weight': 1,\n",
    "        'eval_metric': 'auc',\n",
    "        'seed': 1,\n",
    "        'verbosity': 1\n",
    "    }\n",
    "    \n",
    "    xgb_clf = xgb.train(\n",
    "        params = params,\n",
    "        dtrain = dtrain,\n",
    "        num_boost_round = 300,\n",
    "        evals = watchlist,\n",
    "        evals_result = eval_result,\n",
    "        verbose_eval = 0\n",
    "    )\n",
    "\n",
    "    df_scores = pd.DataFrame()\n",
    "    df_scores['num_boost_round'] = np.arange(1, 301)\n",
    "    df_scores['auc'] = eval_result['val']['auc']\n",
    "    \n",
    "\n",
    "    result[f'eta={eta}'] = df_scores\n",
    "        "
   ]
  },
  {
   "cell_type": "code",
   "execution_count": 21,
   "metadata": {},
   "outputs": [
    {
     "data": {
      "text/plain": [
       "dict_keys(['eta=0.1', 'eta=0.2', 'eta=0.3', 'eta=0.4', 'eta=0.5', 'eta=0.6', 'eta=0.7', 'eta=0.8', 'eta=0.9', 'eta=1.0'])"
      ]
     },
     "execution_count": 21,
     "metadata": {},
     "output_type": "execute_result"
    }
   ],
   "source": [
    "result.keys()"
   ]
  },
  {
   "cell_type": "code",
   "execution_count": 22,
   "metadata": {},
   "outputs": [
    {
     "name": "stdout",
     "output_type": "stream",
     "text": [
      "eta=0.1\n",
      "    num_boost_round       auc\n",
      "39               40  0.984837\n",
      "40               41  0.984712\n",
      "41               42  0.984463\n",
      "\n",
      "eta=0.2\n",
      "    num_boost_round       auc\n",
      "27               28  0.984811\n",
      "28               29  0.984794\n",
      "26               27  0.984785\n",
      "\n",
      "eta=0.3\n",
      "    num_boost_round       auc\n",
      "26               27  0.982397\n",
      "27               28  0.982268\n",
      "25               26  0.982251\n",
      "\n",
      "eta=0.4\n",
      "    num_boost_round       auc\n",
      "13               14  0.982547\n",
      "14               15  0.982418\n",
      "11               12  0.981980\n",
      "\n",
      "eta=0.5\n",
      "    num_boost_round       auc\n",
      "10               11  0.980490\n",
      "9                10  0.979472\n",
      "8                 9  0.979420\n",
      "\n",
      "eta=0.6\n",
      "    num_boost_round       auc\n",
      "9                10  0.981044\n",
      "12               13  0.981022\n",
      "13               14  0.980249\n",
      "\n",
      "eta=0.7\n",
      "   num_boost_round       auc\n",
      "4                5  0.976873\n",
      "7                8  0.975924\n",
      "9               10  0.975481\n",
      "\n",
      "eta=0.8\n",
      "   num_boost_round       auc\n",
      "7                8  0.979549\n",
      "5                6  0.979377\n",
      "8                9  0.978162\n",
      "\n",
      "eta=0.9\n",
      "   num_boost_round       auc\n",
      "3                4  0.974777\n",
      "5                6  0.974601\n",
      "4                5  0.974536\n",
      "\n",
      "eta=1.0\n",
      "   num_boost_round       auc\n",
      "6                7  0.978845\n",
      "5                6  0.977088\n",
      "7                8  0.974609\n",
      "\n"
     ]
    }
   ],
   "source": [
    "for key in result:\n",
    "    print(key)\n",
    "    print(result[key].sort_values(by='auc', ascending=False).head(3))\n",
    "    print()"
   ]
  },
  {
   "cell_type": "code",
   "execution_count": 23,
   "metadata": {},
   "outputs": [
    {
     "data": {
      "text/plain": [
       "<matplotlib.legend.Legend at 0x7fc9fa394ad0>"
      ]
     },
     "execution_count": 23,
     "metadata": {},
     "output_type": "execute_result"
    },
    {
     "data": {
      "image/png": "[encoded data removed]",
      "text/plain": [
       "<Figure size 640x480 with 1 Axes>"
      ]
     },
     "metadata": {},
     "output_type": "display_data"
    }
   ],
   "source": [
    "for key in ['eta=0.1', 'eta=0.2']:\n",
    "    plt.plot(result[key]['auc'], label=f'{key}')\n",
    "plt.xlabel('num_boost_round')\n",
    "plt.ylabel('auc')\n",
    "plt.legend()"
   ]
  },
  {
   "cell_type": "code",
   "execution_count": 24,
   "metadata": {},
   "outputs": [
    {
     "data": {
      "application/vnd.jupyter.widget-view+json": {
       "model_id": "c6d25fc7f92a47ff80e9ca25bdf4fd6d",
       "version_major": 2,
       "version_minor": 0
      },
      "text/plain": [
       "  0%|          | 0/10 [00:00<?, ?it/s]"
      ]
     },
     "metadata": {},
     "output_type": "display_data"
    }
   ],
   "source": [
    "eta = 0.1\n",
    "result = {}\n",
    "\n",
    "for d in tqdm(range(1, 11)):\n",
    "    eval_result = {}\n",
    "    watchlist = [(dtrain, 'train'), (dval, 'val')]\n",
    "    params = {\n",
    "        'objective': 'binary:logistic',\n",
    "        'eta': eta,\n",
    "        'max_depth': d,\n",
    "        'min_child_weight': 1,\n",
    "        'eval_metric': 'auc',\n",
    "        'seed': 1,\n",
    "        'verbosity': 1\n",
    "    }\n",
    "    \n",
    "    xgb_clf = xgb.train(\n",
    "        params = params,\n",
    "        dtrain = dtrain,\n",
    "        num_boost_round = 300,\n",
    "        evals = watchlist,\n",
    "        evals_result = eval_result,\n",
    "        verbose_eval = 0\n",
    "    )\n",
    "\n",
    "    df_scores = pd.DataFrame()\n",
    "    df_scores['num_boost_round'] = np.arange(1, 301)\n",
    "    df_scores['auc'] = eval_result['val']['auc']\n",
    "    \n",
    "\n",
    "    result[f'max_depth={d}'] = df_scores\n",
    "        "
   ]
  },
  {
   "cell_type": "code",
   "execution_count": 25,
   "metadata": {},
   "outputs": [
    {
     "name": "stdout",
     "output_type": "stream",
     "text": [
      "max_depth=1\n",
      "     num_boost_round       auc\n",
      "135              136  0.945576\n",
      "139              140  0.945541\n",
      "157              158  0.945382\n",
      "\n",
      "max_depth=2\n",
      "     num_boost_round       auc\n",
      "294              295  0.976838\n",
      "299              300  0.976796\n",
      "295              296  0.976778\n",
      "\n",
      "max_depth=3\n",
      "     num_boost_round       auc\n",
      "273              274  0.976486\n",
      "254              255  0.976460\n",
      "267              268  0.976460\n",
      "\n",
      "max_depth=4\n",
      "     num_boost_round       auc\n",
      "115              116  0.982912\n",
      "172              173  0.982912\n",
      "173              174  0.982878\n",
      "\n",
      "max_depth=5\n",
      "    num_boost_round       auc\n",
      "58               59  0.983247\n",
      "59               60  0.983084\n",
      "53               54  0.983028\n",
      "\n",
      "max_depth=6\n",
      "    num_boost_round       auc\n",
      "39               40  0.984837\n",
      "40               41  0.984712\n",
      "41               42  0.984463\n",
      "\n",
      "max_depth=7\n",
      "    num_boost_round       auc\n",
      "41               42  0.985258\n",
      "40               41  0.985215\n",
      "38               39  0.985103\n",
      "\n",
      "max_depth=8\n",
      "    num_boost_round       auc\n",
      "40               41  0.985369\n",
      "41               42  0.985365\n",
      "39               40  0.985228\n",
      "\n",
      "max_depth=9\n",
      "    num_boost_round       auc\n",
      "39               40  0.984991\n",
      "37               38  0.984850\n",
      "40               41  0.984794\n",
      "\n",
      "max_depth=10\n",
      "    num_boost_round       auc\n",
      "50               51  0.985404\n",
      "49               50  0.985378\n",
      "51               52  0.985275\n",
      "\n"
     ]
    }
   ],
   "source": [
    "for key in result:\n",
    "    print(key)\n",
    "    print(result[key].sort_values(by='auc', ascending=False).head(3))\n",
    "    print()"
   ]
  },
  {
   "cell_type": "code",
   "execution_count": 26,
   "metadata": {},
   "outputs": [
    {
     "data": {
      "text/plain": [
       "<matplotlib.legend.Legend at 0x7fc9e52d74d0>"
      ]
     },
     "execution_count": 26,
     "metadata": {},
     "output_type": "execute_result"
    },
    {
     "data": {
      "image/png": "[encoded data removed]",
      "text/plain": [
       "<Figure size 640x480 with 1 Axes>"
      ]
     },
     "metadata": {},
     "output_type": "display_data"
    }
   ],
   "source": [
    "for key in ['max_depth=7', 'max_depth=8', 'max_depth=10']:\n",
    "    plt.plot(result[key]['auc'], label=f'{key}')\n",
    "plt.xlabel('num_boost_round')\n",
    "plt.ylabel('auc')\n",
    "plt.legend()"
   ]
  },
  {
   "cell_type": "code",
   "execution_count": 27,
   "metadata": {},
   "outputs": [
    {
     "data": {
      "application/vnd.jupyter.widget-view+json": {
       "model_id": "9dbedeafcfd24681b70b88a59e92fea1",
       "version_major": 2,
       "version_minor": 0
      },
      "text/plain": [
       "  0%|          | 0/20 [00:00<?, ?it/s]"
      ]
     },
     "metadata": {},
     "output_type": "display_data"
    }
   ],
   "source": [
    "eta = 0.1\n",
    "max_depth = 10\n",
    "result = {}\n",
    "\n",
    "for w in tqdm(range(1, 21)):\n",
    "    eval_result = {}\n",
    "    watchlist = [(dtrain, 'train'), (dval, 'val')]\n",
    "    params = {\n",
    "        'objective': 'binary:logistic',\n",
    "        'eta': eta,\n",
    "        'max_depth': max_depth,\n",
    "        'min_child_weight': w,\n",
    "        'eval_metric': 'auc',\n",
    "        'seed': 1,\n",
    "        'verbosity': 1\n",
    "    }\n",
    "    \n",
    "    xgb_clf = xgb.train(\n",
    "        params = params,\n",
    "        dtrain = dtrain,\n",
    "        num_boost_round = 300,\n",
    "        evals = watchlist,\n",
    "        evals_result = eval_result,\n",
    "        verbose_eval = 0\n",
    "    )\n",
    "\n",
    "    df_scores = pd.DataFrame()\n",
    "    df_scores['num_boost_round'] = np.arange(1, 301)\n",
    "    df_scores['auc'] = eval_result['val']['auc']\n",
    "    \n",
    "\n",
    "    result[f'min_child_weight={w}'] = df_scores\n",
    "        "
   ]
  },
  {
   "cell_type": "code",
   "execution_count": 28,
   "metadata": {},
   "outputs": [
    {
     "name": "stdout",
     "output_type": "stream",
     "text": [
      "min_child_weight=1\n",
      "    num_boost_round       auc\n",
      "50               51  0.985404\n",
      "49               50  0.985378\n",
      "51               52  0.985275\n",
      "\n",
      "min_child_weight=2\n",
      "    num_boost_round       auc\n",
      "40               41  0.983956\n",
      "38               39  0.983939\n",
      "39               40  0.983845\n",
      "\n",
      "min_child_weight=3\n",
      "    num_boost_round       auc\n",
      "38               39  0.984046\n",
      "35               36  0.983883\n",
      "39               40  0.983883\n",
      "\n",
      "min_child_weight=4\n",
      "    num_boost_round       auc\n",
      "56               57  0.982036\n",
      "57               58  0.981993\n",
      "55               56  0.981950\n",
      "\n",
      "min_child_weight=5\n",
      "    num_boost_round       auc\n",
      "44               45  0.983479\n",
      "45               46  0.983325\n",
      "51               52  0.983299\n",
      "\n",
      "min_child_weight=6\n",
      "    num_boost_round       auc\n",
      "70               71  0.979351\n",
      "71               72  0.979214\n",
      "73               74  0.979119\n",
      "\n",
      "min_child_weight=7\n",
      "    num_boost_round       auc\n",
      "60               61  0.980082\n",
      "59               60  0.979944\n",
      "61               62  0.979918\n",
      "\n",
      "min_child_weight=8\n",
      "    num_boost_round       auc\n",
      "65               66  0.976284\n",
      "70               71  0.976216\n",
      "37               38  0.976164\n",
      "\n",
      "min_child_weight=9\n",
      "    num_boost_round       auc\n",
      "52               53  0.977826\n",
      "59               60  0.977758\n",
      "54               55  0.977758\n",
      "\n",
      "min_child_weight=10\n",
      "    num_boost_round       auc\n",
      "54               55  0.977564\n",
      "48               49  0.977457\n",
      "63               64  0.977410\n",
      "\n",
      "min_child_weight=11\n",
      "    num_boost_round       auc\n",
      "65               66  0.975241\n",
      "54               55  0.975228\n",
      "55               56  0.975223\n",
      "\n",
      "min_child_weight=12\n",
      "    num_boost_round       auc\n",
      "50               51  0.975021\n",
      "53               54  0.974961\n",
      "52               53  0.974875\n",
      "\n",
      "min_child_weight=13\n",
      "     num_boost_round       auc\n",
      "96                97  0.974261\n",
      "94                95  0.974244\n",
      "100              101  0.974235\n",
      "\n",
      "min_child_weight=14\n",
      "    num_boost_round       auc\n",
      "56               57  0.973200\n",
      "68               69  0.973050\n",
      "58               59  0.973033\n",
      "\n",
      "min_child_weight=15\n",
      "     num_boost_round       auc\n",
      "109              110  0.972242\n",
      "104              105  0.972216\n",
      "110              111  0.972216\n",
      "\n",
      "min_child_weight=16\n",
      "    num_boost_round       auc\n",
      "91               92  0.970631\n",
      "95               96  0.970606\n",
      "96               97  0.970563\n",
      "\n",
      "min_child_weight=17\n",
      "     num_boost_round       auc\n",
      "118              119  0.970808\n",
      "126              127  0.970799\n",
      "121              122  0.970790\n",
      "\n",
      "min_child_weight=18\n",
      "    num_boost_round       auc\n",
      "71               72  0.971684\n",
      "72               73  0.971598\n",
      "70               71  0.971486\n",
      "\n",
      "min_child_weight=19\n",
      "     num_boost_round       auc\n",
      "116              117  0.971890\n",
      "115              116  0.971796\n",
      "121              122  0.971796\n",
      "\n",
      "min_child_weight=20\n",
      "     num_boost_round       auc\n",
      "191              192  0.970704\n",
      "189              190  0.970670\n",
      "214              215  0.970653\n",
      "\n"
     ]
    }
   ],
   "source": [
    "for key in result:\n",
    "    print(key)\n",
    "    print(result[key].sort_values(by='auc', ascending=False).head(3))\n",
    "    print()"
   ]
  },
  {
   "cell_type": "code",
   "execution_count": 29,
   "metadata": {},
   "outputs": [
    {
     "data": {
      "text/plain": [
       "np.float64(0.9854037800687285)"
      ]
     },
     "execution_count": 29,
     "metadata": {},
     "output_type": "execute_result"
    }
   ],
   "source": [
    "eta = 0.1\n",
    "max_depth = 10\n",
    "min_child_weight = 1\n",
    "\n",
    "params = {\n",
    "    'objective': 'binary:logistic',\n",
    "    'eta': eta,\n",
    "    'max_depth': max_depth,\n",
    "    'min_child_weight': min_child_weight,\n",
    "    'eval_metric': 'auc',\n",
    "    'seed': 1,\n",
    "    'verbosity': 1\n",
    "}\n",
    "\n",
    "xgb_clf = xgb.train(\n",
    "    params = params,\n",
    "    dtrain = dtrain,\n",
    "    num_boost_round = 51,\n",
    "    #evals = watchlist,\n",
    "    #evals_result = eval_result,\n",
    "    verbose_eval = 0\n",
    ")\n",
    "\n",
    "y_pred = xgb_clf.predict(dval)\n",
    "xgb_clf_auc_score = roc_auc_score(y_val, y_pred)\n",
    "xgb_clf_auc_score"
   ]
  },
  {
   "cell_type": "code",
   "execution_count": 30,
   "metadata": {},
   "outputs": [
    {
     "name": "stdout",
     "output_type": "stream",
     "text": [
      "ROC AUC Score: 0.972933107161295\n"
     ]
    }
   ],
   "source": [
    "eta = 0.1\n",
    "max_depth = 10\n",
    "min_child_weight = 1\n",
    "\n",
    "# Initialize XGBClassifier\n",
    "xgb_clf = XGBClassifier(\n",
    "    objective='binary:logistic',\n",
    "    learning_rate=eta,\n",
    "    max_depth=max_depth,   \n",
    "    min_child_weight=min_child_weight,\n",
    "    eval_metric='auc',\n",
    "    random_state=1,\n",
    "    verbosity=1\n",
    ")\n",
    "\n",
    "# Train the model\n",
    "xgb_clf.fit(\n",
    "    X_train, y_train,\n",
    "    verbose=0\n",
    ")\n",
    "\n",
    "# Make predictions\n",
    "y_pred = xgb_clf.predict_proba(X_test)[:, 1]\n",
    "print(\"ROC AUC Score:\", roc_auc_score(y_test, y_pred))"
   ]
  },
  {
   "cell_type": "markdown",
   "metadata": {},
   "source": [
    "### Evaluation"
   ]
  },
  {
   "cell_type": "code",
   "execution_count": 31,
   "metadata": {},
   "outputs": [
    {
     "name": "stdout",
     "output_type": "stream",
     "text": [
      "                 model       auc\n",
      "3              XGBoost  0.985404\n",
      "2        Random Forest  0.977715\n",
      "1        Decision Tree  0.960640\n",
      "0  Logistic Regression  0.897526\n"
     ]
    },
    {
     "data": {
      "image/png": "[encoded data removed]",
      "text/plain": [
       "<Figure size 600x300 with 1 Axes>"
      ]
     },
     "metadata": {},
     "output_type": "display_data"
    }
   ],
   "source": [
    "models = ['Logistic Regression', 'Decision Tree', 'Random Forest', 'XGBoost']\n",
    "scores = [lr_clf_auc_score, dt_clf_auc_score, rf_clf_auc_score, xgb_clf_auc_score]\n",
    "\n",
    "df_scores = pd.DataFrame(data={'model':models, \n",
    "                               'auc':scores})\n",
    "\n",
    "print(df_scores.sort_values(by='auc', ascending=False))\n",
    "\n",
    "\n",
    "plt.figure(figsize=(6, 3))\n",
    "sns.set(font_scale=0.8)\n",
    "ax = sns.barplot(x=df_scores['model'], y=df_scores['auc'], \n",
    "                 hue=df_scores['model'], palette='viridis')\n",
    "for a in ax.containers:\n",
    "    ax.bar_label(a)\n",
    "plt.ylim(0, 1.2)\n",
    "plt.show()"
   ]
  },
  {
   "cell_type": "markdown",
   "metadata": {},
   "source": [
    "### Train on full dataset"
   ]
  },
  {
   "cell_type": "code",
   "execution_count": 36,
   "metadata": {
    "scrolled": true
   },
   "outputs": [],
   "source": [
    "dicts_df_full_train = df_full_train.to_dict(orient='records')\n",
    "X_full_train = dv.transform(dicts_df_full_train)\n",
    "\n",
    "dicts_df_full_train_scaled = df_full_train_scaled.to_dict(orient='records')\n",
    "X_full_train_scaled = dv.transform(dicts_df_full_train_scaled)"
   ]
  },
  {
   "cell_type": "code",
   "execution_count": 37,
   "metadata": {},
   "outputs": [
    {
     "data": {
      "text/plain": [
       "np.float64(0.9283378813580155)"
      ]
     },
     "execution_count": 37,
     "metadata": {},
     "output_type": "execute_result"
    }
   ],
   "source": [
    "lr_clf.fit(X_full_train_scaled, y_full_train)\n",
    "y_pred = lr_clf.predict_proba(X_test_scaled)[:, 1]\n",
    "roc_auc_score(y_test, y_pred)"
   ]
  },
  {
   "cell_type": "code",
   "execution_count": 38,
   "metadata": {},
   "outputs": [
    {
     "data": {
      "text/plain": [
       "np.float64(0.968471126189247)"
      ]
     },
     "execution_count": 38,
     "metadata": {},
     "output_type": "execute_result"
    }
   ],
   "source": [
    "dt_clf.fit(X_full_train, y_full_train)\n",
    "y_pred = dt_clf.predict_proba(X_test)[:, 1]\n",
    "roc_auc_score(y_test, y_pred)"
   ]
  },
  {
   "cell_type": "code",
   "execution_count": 39,
   "metadata": {},
   "outputs": [
    {
     "data": {
      "text/plain": [
       "np.float64(0.9733182551974497)"
      ]
     },
     "execution_count": 39,
     "metadata": {},
     "output_type": "execute_result"
    }
   ],
   "source": [
    "rf_clf.fit(X_full_train, y_full_train)\n",
    "y_pred = rf_clf.predict_proba(X_test)[:, 1]\n",
    "roc_auc_score(y_test, y_pred)"
   ]
  },
  {
   "cell_type": "code",
   "execution_count": 41,
   "metadata": {},
   "outputs": [
    {
     "data": {
      "text/plain": [
       "np.float64(0.9775139103998165)"
      ]
     },
     "execution_count": 41,
     "metadata": {},
     "output_type": "execute_result"
    }
   ],
   "source": [
    "dfulltrain = xgb.DMatrix(X_full_train,\n",
    "                         label=y_full_train, \n",
    "                         feature_names=features)\n",
    "dtest = xgb.DMatrix(X_test, feature_names=features)\n",
    "\n",
    "eta = 0.1\n",
    "max_depth = 10\n",
    "min_child_weight = 1\n",
    "\n",
    "params = {\n",
    "    'objective': 'binary:logistic',\n",
    "    'eta': eta,\n",
    "    'max_depth': max_depth,\n",
    "    'min_child_weight': min_child_weight,\n",
    "    'eval_metric': 'auc',\n",
    "    'seed': 1,\n",
    "    'verbosity': 1\n",
    "}\n",
    "\n",
    "xgb_clf = xgb.train(\n",
    "    params = params,\n",
    "    dtrain = dfulltrain,\n",
    "    num_boost_round = 51,\n",
    "    #evals = watchlist,\n",
    "    #evals_result = eval_result,\n",
    "    verbose_eval = 0\n",
    ")\n",
    "\n",
    "y_pred = xgb_clf.predict(dtest)\n",
    "roc_auc_score(y_test, y_pred)"
   ]
  },
  {
   "cell_type": "code",
   "execution_count": null,
   "metadata": {},
   "outputs": [],
   "source": [
    "\"\"\"\n",
    "with open('xgb_clf.bin', 'wb') as f:\n",
    "    pickle.dump((xgb_clf, dv), f)\n",
    "\"\"\""
   ]
  },
  {
   "cell_type": "code",
   "execution_count": 42,
   "metadata": {},
   "outputs": [
    {
     "name": "stdout",
     "output_type": "stream",
     "text": [
      "ROC AUC Score: 0.9775139103998165\n"
     ]
    }
   ],
   "source": [
    "from xgboost import XGBClassifier\n",
    "from sklearn.metrics import roc_auc_score\n",
    "\n",
    "# Parameters\n",
    "eta = 0.1\n",
    "max_depth = 10\n",
    "min_child_weight = 1\n",
    "\n",
    "# Initialize XGBClassifier\n",
    "xgb_clf = XGBClassifier(\n",
    "    objective='binary:logistic',  # Binary classification\n",
    "    learning_rate=eta,            # Learning rate (eta in xgb.train)\n",
    "    max_depth=max_depth,          # Maximum depth of a tree\n",
    "    min_child_weight=min_child_weight,  # Minimum sum of instance weight (Hessian)\n",
    "    n_estimators=51,\n",
    "    eval_metric='auc',            # Evaluation metric\n",
    "    random_state=1,               # Random seed\n",
    "    verbosity=1                   # Verbosity level\n",
    ")\n",
    "\n",
    "# Train the model\n",
    "xgb_clf.fit(\n",
    "    X_full_train, y_full_train,\n",
    "    eval_set=[(X_test, y_test)],  # Optional: Add evaluation set for early stopping\n",
    "    verbose=0                     # Disable training logs\n",
    ")\n",
    "\n",
    "# Make predictions\n",
    "y_pred = xgb_clf.predict_proba(X_test)[:, 1]  # Predict probabilities for the positive class\n",
    "print(\"ROC AUC Score:\", roc_auc_score(y_test, y_pred))"
   ]
  }
 ],
 "metadata": {
  "colab": {
   "provenance": []
  },
  "kernelspec": {
   "display_name": "Python 3 (ipykernel)",
   "language": "python",
   "name": "python3"
  },
  "language_info": {
   "codemirror_mode": {
    "name": "ipython",
    "version": 3
   },
   "file_extension": ".py",
   "mimetype": "text/x-python",
   "name": "python",
   "nbconvert_exporter": "python",
   "pygments_lexer": "ipython3",
   "version": "3.13.1"
  }
 },
 "nbformat": 4,
 "nbformat_minor": 4
}
